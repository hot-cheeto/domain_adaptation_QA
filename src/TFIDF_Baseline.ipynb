{
 "cells": [
  {
   "cell_type": "code",
   "execution_count": 6,
   "id": "fec26984",
   "metadata": {},
   "outputs": [],
   "source": [
    "import os\n",
    "import sys\n",
    "\n",
    "from utilities.evaluate import f1_score\n",
    "from utilities.file_utils import Utils as utils\n",
    "from data.bioasq_dataset import BioASQDataset\n",
    "\n",
    "from tqdm import tqdm_notebook as tqdm\n",
    "from sklearn.feature_extraction.text import TfidfVectorizer\n",
    "from sklearn.metrics.pairwise import cosine_similarity\n",
    "\n",
    "import nltk\n",
    "from nltk.corpus import stopwords\n",
    "#print(stopwords.words('english'))\n",
    "\n",
    "words = stopwords.words('english')"
   ]
  },
  {
   "cell_type": "markdown",
   "id": "60e61119",
   "metadata": {},
   "source": [
    "## Load BioASQ dataset"
   ]
  },
  {
   "cell_type": "code",
   "execution_count": 4,
   "id": "ad5d7ccd",
   "metadata": {
    "collapsed": true
   },
   "outputs": [
    {
     "name": "stdout",
     "output_type": "stream",
     "text": [
      "Loading and preprocessing file: /Users/ordonez2/Desktop/cs221/final project/domain_adaptation_QA/data/BioASQ/BioASQ-train-factoid-5b.json\n"
     ]
    },
    {
     "data": {
      "application/vnd.jupyter.widget-view+json": {
       "model_id": "dba61c5e800044b29ae5d87beb488e37",
       "version_major": 2,
       "version_minor": 0
      },
      "text/plain": [
       "HBox(children=(FloatProgress(value=0.0, max=4950.0), HTML(value='')))"
      ]
     },
     "metadata": {},
     "output_type": "display_data"
    },
    {
     "name": "stdout",
     "output_type": "stream",
     "text": [
      "\n",
      "Loading and preprocessing file: /Users/ordonez2/Desktop/cs221/final project/domain_adaptation_QA/data/BioASQ/BioASQ-train-factoid-4b.json\n"
     ]
    },
    {
     "data": {
      "application/vnd.jupyter.widget-view+json": {
       "model_id": "f5804778c4714db3b3436de75d181c47",
       "version_major": 2,
       "version_minor": 0
      },
      "text/plain": [
       "HBox(children=(FloatProgress(value=0.0, max=3266.0), HTML(value='')))"
      ]
     },
     "metadata": {},
     "output_type": "display_data"
    },
    {
     "name": "stdout",
     "output_type": "stream",
     "text": [
      "\n",
      "Loading and preprocessing file: /Users/ordonez2/Desktop/cs221/final project/domain_adaptation_QA/data/BioASQ/BioASQ-train-factoid-6b.json\n"
     ]
    },
    {
     "data": {
      "application/vnd.jupyter.widget-view+json": {
       "model_id": "60522bfdc9e14c78b1e0a88e0771c22a",
       "version_major": 2,
       "version_minor": 0
      },
      "text/plain": [
       "HBox(children=(FloatProgress(value=0.0, max=4772.0), HTML(value='')))"
      ]
     },
     "metadata": {},
     "output_type": "display_data"
    },
    {
     "name": "stdout",
     "output_type": "stream",
     "text": [
      "\n",
      "Loading and preprocessing file: /Users/ordonez2/Desktop/cs221/final project/domain_adaptation_QA/data/BioASQ/BioASQ-test-factoid-4b-2.json\n"
     ]
    },
    {
     "data": {
      "application/vnd.jupyter.widget-view+json": {
       "model_id": "c9850ad7ae0042a08ee341628a394da5",
       "version_major": 2,
       "version_minor": 0
      },
      "text/plain": [
       "HBox(children=(FloatProgress(value=0.0, max=152.0), HTML(value='')))"
      ]
     },
     "metadata": {},
     "output_type": "display_data"
    },
    {
     "name": "stdout",
     "output_type": "stream",
     "text": [
      "\n",
      "Loading and preprocessing file: /Users/ordonez2/Desktop/cs221/final project/domain_adaptation_QA/data/BioASQ/BioASQ-test-factoid-6b-5.json\n"
     ]
    },
    {
     "data": {
      "application/vnd.jupyter.widget-view+json": {
       "model_id": "2171e38bbcf043a2b1d15dde0e0e9c0d",
       "version_major": 2,
       "version_minor": 0
      },
      "text/plain": [
       "HBox(children=(FloatProgress(value=0.0, max=145.0), HTML(value='')))"
      ]
     },
     "metadata": {},
     "output_type": "display_data"
    },
    {
     "name": "stdout",
     "output_type": "stream",
     "text": [
      "\n",
      "Loading and preprocessing file: /Users/ordonez2/Desktop/cs221/final project/domain_adaptation_QA/data/BioASQ/BioASQ-test-factoid-5b-2.json\n"
     ]
    },
    {
     "data": {
      "application/vnd.jupyter.widget-view+json": {
       "model_id": "07050c3292d347539feafb7b76d565f6",
       "version_major": 2,
       "version_minor": 0
      },
      "text/plain": [
       "HBox(children=(FloatProgress(value=0.0, max=121.0), HTML(value='')))"
      ]
     },
     "metadata": {},
     "output_type": "display_data"
    },
    {
     "name": "stdout",
     "output_type": "stream",
     "text": [
      "\n",
      "Loading and preprocessing file: /Users/ordonez2/Desktop/cs221/final project/domain_adaptation_QA/data/BioASQ/BioASQ-test-factoid-6b-4.json\n"
     ]
    },
    {
     "data": {
      "application/vnd.jupyter.widget-view+json": {
       "model_id": "401e6287ed2c483e8a149e3bf419384b",
       "version_major": 2,
       "version_minor": 0
      },
      "text/plain": [
       "HBox(children=(FloatProgress(value=0.0, max=88.0), HTML(value='')))"
      ]
     },
     "metadata": {},
     "output_type": "display_data"
    },
    {
     "name": "stdout",
     "output_type": "stream",
     "text": [
      "\n",
      "Loading and preprocessing file: /Users/ordonez2/Desktop/cs221/final project/domain_adaptation_QA/data/BioASQ/BioASQ-test-factoid-4b-3.json\n"
     ]
    },
    {
     "data": {
      "application/vnd.jupyter.widget-view+json": {
       "model_id": "ba8a15639e9e4ff399c92ca60d45edc8",
       "version_major": 2,
       "version_minor": 0
      },
      "text/plain": [
       "HBox(children=(FloatProgress(value=0.0), HTML(value='')))"
      ]
     },
     "metadata": {},
     "output_type": "display_data"
    },
    {
     "name": "stdout",
     "output_type": "stream",
     "text": [
      "\n",
      "Loading and preprocessing file: /Users/ordonez2/Desktop/cs221/final project/domain_adaptation_QA/data/BioASQ/BioASQ-test-factoid-4b-4.json\n"
     ]
    },
    {
     "data": {
      "application/vnd.jupyter.widget-view+json": {
       "model_id": "c65876870dd149a492162f75ef7fa63d",
       "version_major": 2,
       "version_minor": 0
      },
      "text/plain": [
       "HBox(children=(FloatProgress(value=0.0, max=116.0), HTML(value='')))"
      ]
     },
     "metadata": {},
     "output_type": "display_data"
    },
    {
     "name": "stdout",
     "output_type": "stream",
     "text": [
      "\n",
      "Loading and preprocessing file: /Users/ordonez2/Desktop/cs221/final project/domain_adaptation_QA/data/BioASQ/BioASQ-test-factoid-6b-3.json\n"
     ]
    },
    {
     "data": {
      "application/vnd.jupyter.widget-view+json": {
       "model_id": "c64f136410af4b85a6930c6dfb6983b0",
       "version_major": 2,
       "version_minor": 0
      },
      "text/plain": [
       "HBox(children=(FloatProgress(value=0.0, max=93.0), HTML(value='')))"
      ]
     },
     "metadata": {},
     "output_type": "display_data"
    },
    {
     "name": "stdout",
     "output_type": "stream",
     "text": [
      "\n",
      "Loading and preprocessing file: /Users/ordonez2/Desktop/cs221/final project/domain_adaptation_QA/data/BioASQ/BioASQ-test-factoid-5b-5.json\n"
     ]
    },
    {
     "data": {
      "application/vnd.jupyter.widget-view+json": {
       "model_id": "a496c80598e54406842458e61fcc9618",
       "version_major": 2,
       "version_minor": 0
      },
      "text/plain": [
       "HBox(children=(FloatProgress(value=0.0, max=101.0), HTML(value='')))"
      ]
     },
     "metadata": {},
     "output_type": "display_data"
    },
    {
     "name": "stdout",
     "output_type": "stream",
     "text": [
      "\n",
      "Loading and preprocessing file: /Users/ordonez2/Desktop/cs221/final project/domain_adaptation_QA/data/BioASQ/BioASQ-test-factoid-5b-4.json\n"
     ]
    },
    {
     "data": {
      "application/vnd.jupyter.widget-view+json": {
       "model_id": "f1c139248ca643ce9c23cde050a32051",
       "version_major": 2,
       "version_minor": 0
      },
      "text/plain": [
       "HBox(children=(FloatProgress(value=0.0, max=94.0), HTML(value='')))"
      ]
     },
     "metadata": {},
     "output_type": "display_data"
    },
    {
     "name": "stdout",
     "output_type": "stream",
     "text": [
      "\n",
      "Loading and preprocessing file: /Users/ordonez2/Desktop/cs221/final project/domain_adaptation_QA/data/BioASQ/BioASQ-test-factoid-6b-2.json\n"
     ]
    },
    {
     "data": {
      "application/vnd.jupyter.widget-view+json": {
       "model_id": "8458eb87abcc4df89ad4cb37602bb98e",
       "version_major": 2,
       "version_minor": 0
      },
      "text/plain": [
       "HBox(children=(FloatProgress(value=0.0, max=78.0), HTML(value='')))"
      ]
     },
     "metadata": {},
     "output_type": "display_data"
    },
    {
     "name": "stdout",
     "output_type": "stream",
     "text": [
      "\n",
      "Loading and preprocessing file: /Users/ordonez2/Desktop/cs221/final project/domain_adaptation_QA/data/BioASQ/BioASQ-test-factoid-4b-5.json\n"
     ]
    },
    {
     "data": {
      "application/vnd.jupyter.widget-view+json": {
       "model_id": "814414124cea45b6bf776eda47b7e66b",
       "version_major": 2,
       "version_minor": 0
      },
      "text/plain": [
       "HBox(children=(FloatProgress(value=0.0, max=117.0), HTML(value='')))"
      ]
     },
     "metadata": {},
     "output_type": "display_data"
    },
    {
     "name": "stdout",
     "output_type": "stream",
     "text": [
      "\n",
      "Loading and preprocessing file: /Users/ordonez2/Desktop/cs221/final project/domain_adaptation_QA/data/BioASQ/BioASQ-test-factoid-6b-1.json\n"
     ]
    },
    {
     "data": {
      "application/vnd.jupyter.widget-view+json": {
       "model_id": "2378d3747ca7400a8786826bf4cc02f8",
       "version_major": 2,
       "version_minor": 0
      },
      "text/plain": [
       "HBox(children=(FloatProgress(value=0.0, max=121.0), HTML(value='')))"
      ]
     },
     "metadata": {},
     "output_type": "display_data"
    },
    {
     "name": "stdout",
     "output_type": "stream",
     "text": [
      "\n",
      "Loading and preprocessing file: /Users/ordonez2/Desktop/cs221/final project/domain_adaptation_QA/data/BioASQ/BioASQ-test-factoid-5b-1.json\n"
     ]
    },
    {
     "data": {
      "application/vnd.jupyter.widget-view+json": {
       "model_id": "4a589baff29948eab87fc25cccd04077",
       "version_major": 2,
       "version_minor": 0
      },
      "text/plain": [
       "HBox(children=(FloatProgress(value=0.0, max=91.0), HTML(value='')))"
      ]
     },
     "metadata": {},
     "output_type": "display_data"
    },
    {
     "name": "stdout",
     "output_type": "stream",
     "text": [
      "\n",
      "Loading and preprocessing file: /Users/ordonez2/Desktop/cs221/final project/domain_adaptation_QA/data/BioASQ/BioASQ-test-factoid-4b-1.json\n"
     ]
    },
    {
     "data": {
      "application/vnd.jupyter.widget-view+json": {
       "model_id": "09374fe4625a4d21b66dfe99fd19ea45",
       "version_major": 2,
       "version_minor": 0
      },
      "text/plain": [
       "HBox(children=(FloatProgress(value=0.0, max=167.0), HTML(value='')))"
      ]
     },
     "metadata": {},
     "output_type": "display_data"
    },
    {
     "name": "stdout",
     "output_type": "stream",
     "text": [
      "\n"
     ]
    }
   ],
   "source": [
    "# to learn tfidf weights\n",
    "train_dataset = BioASQDataset('train', notebook = True)\n",
    "testdev_dataset = BioASQDataset('test-dev', notebook = True)\n",
    "test_dataset = BioASQDataset('test', notebook = True)"
   ]
  },
  {
   "cell_type": "markdown",
   "id": "b15e04f7",
   "metadata": {},
   "source": [
    "## Learn TFIDF weights from context documents (train split) and Transform features"
   ]
  },
  {
   "cell_type": "code",
   "execution_count": 7,
   "id": "15ffa2cd",
   "metadata": {},
   "outputs": [
    {
     "name": "stderr",
     "output_type": "stream",
     "text": [
      "/Users/ordonez2/anaconda3/envs/domain_adaptation_QA/lib/python3.7/site-packages/ipykernel_launcher.py:1: TqdmDeprecationWarning: This function will be removed in tqdm==5.0.0\n",
      "Please use `tqdm.notebook.tqdm` instead of `tqdm.tqdm_notebook`\n",
      "  \"\"\"Entry point for launching an IPython kernel.\n"
     ]
    },
    {
     "data": {
      "application/vnd.jupyter.widget-view+json": {
       "model_id": "8342739d11aa42a79f6c0e179956d32e",
       "version_major": 2,
       "version_minor": 0
      },
      "text/plain": [
       "HBox(children=(FloatProgress(value=0.0, max=4957.0), HTML(value='')))"
      ]
     },
     "metadata": {},
     "output_type": "display_data"
    },
    {
     "name": "stdout",
     "output_type": "stream",
     "text": [
      "\n"
     ]
    },
    {
     "data": {
      "text/plain": [
       "TfidfVectorizer()"
      ]
     },
     "execution_count": 7,
     "metadata": {},
     "output_type": "execute_result"
    }
   ],
   "source": [
    "corpus = [d[-1] for d in tqdm(train_dataset)]\n",
    "vectorizer = TfidfVectorizer()\n",
    "vectorizer.fit(corpus)"
   ]
  },
  {
   "cell_type": "code",
   "execution_count": 19,
   "id": "5cb99f87",
   "metadata": {},
   "outputs": [
    {
     "name": "stderr",
     "output_type": "stream",
     "text": [
      "/Users/ordonez2/anaconda3/envs/domain_adaptation_QA/lib/python3.7/site-packages/ipykernel_launcher.py:3: TqdmDeprecationWarning: This function will be removed in tqdm==5.0.0\n",
      "Please use `tqdm.notebook.tqdm` instead of `tqdm.tqdm_notebook`\n",
      "  This is separate from the ipykernel package so we can avoid doing imports until\n"
     ]
    },
    {
     "data": {
      "application/vnd.jupyter.widget-view+json": {
       "model_id": "6b70e6b61760422fab1395f691e243c6",
       "version_major": 2,
       "version_minor": 0
      },
      "text/plain": [
       "HBox(children=(FloatProgress(value=0.0, max=4772.0), HTML(value='')))"
      ]
     },
     "metadata": {},
     "output_type": "display_data"
    },
    {
     "name": "stdout",
     "output_type": "stream",
     "text": [
      "\n",
      "\n"
     ]
    }
   ],
   "source": [
    "test_dev_vectors = {}\n",
    "i = 0\n",
    "pbar = tqdm(total = len(testdev_dataset))\n",
    "\n",
    "for d in testdev_dataset:\n",
    "    pbar.update(1)\n",
    "    ques, ans, ans_span, context = d\n",
    "    test_dev_vectors[i] = {'ques_text' : ques, \n",
    "                            'gt_ans_text': ans, \n",
    "                            'gt_ans_span': ans_span,\n",
    "                            'context_text': context}\n",
    "    \n",
    "    context_sent = nltk.sent_tokenize(context)\n",
    "    #remove stopwords\n",
    "    context_vec = {}\n",
    "    context_vec1 = vectorizer.transform([' '.join([w.lower() for w in c if w not in set(words)]) for c in context_sent])\n",
    "    \n",
    "    for j, c in enumerate(context_sent):\n",
    "        norm_ctx = ' '.join([w.lower() for w in c if w not in set(words)])\n",
    "        if len(norm_ctx) < 1:\n",
    "            continue\n",
    "        context_vec[j] = context_vec1[j]\n",
    "        \n",
    "    \n",
    "    test_dev_vectors[i]['context_vec'] = context_vec \n",
    "    ques_vec = vectorizer.transform([' '.join([q for q in ques.split() if q not in set(words)])])\n",
    "    \n",
    "    test_dev_vectors[i]['question_vec'] = ques_vec\n",
    "    max_idx, max_score = -1, 0\n",
    "    all_scores = {}\n",
    "    \n",
    "    for k, v in context_vec.items():\n",
    "        sim_score = cosine_similarity(ques_vec, v)\n",
    "        if sim_score > max_score:\n",
    "            max_score = sim_score\n",
    "            max_idx = k\n",
    "            \n",
    "        all_scores[k] = sim_score\n",
    "        \n",
    "    test_dev_vectors[i]['scores'] = all_scores\n",
    "    test_dev_vectors[i]['pred_ans'] = context_sent[max_idx]\n",
    "    i +=1\n",
    "   \n",
    "\n",
    "pbar.close()"
   ]
  },
  {
   "cell_type": "code",
   "execution_count": 27,
   "id": "c6262ce6",
   "metadata": {},
   "outputs": [
    {
     "name": "stderr",
     "output_type": "stream",
     "text": [
      "/Users/ordonez2/anaconda3/envs/domain_adaptation_QA/lib/python3.7/site-packages/ipykernel_launcher.py:3: TqdmDeprecationWarning: This function will be removed in tqdm==5.0.0\n",
      "Please use `tqdm.notebook.tqdm` instead of `tqdm.tqdm_notebook`\n",
      "  This is separate from the ipykernel package so we can avoid doing imports until\n"
     ]
    },
    {
     "data": {
      "application/vnd.jupyter.widget-view+json": {
       "model_id": "f9170bf38d0c4429b43ebc9f241fa148",
       "version_major": 2,
       "version_minor": 0
      },
      "text/plain": [
       "HBox(children=(FloatProgress(value=0.0, max=1583.0), HTML(value='')))"
      ]
     },
     "metadata": {},
     "output_type": "display_data"
    },
    {
     "name": "stdout",
     "output_type": "stream",
     "text": [
      "\n",
      "\n"
     ]
    }
   ],
   "source": [
    "test_dev_vectors = {}\n",
    "i = 0\n",
    "pbar = tqdm(total = len(test_dataset))\n",
    "\n",
    "for d in test_dataset:\n",
    "    pbar.update(1)\n",
    "    ques, ans, ans_span, context = d\n",
    "    test_dev_vectors[i] = {'ques_text' : ques, \n",
    "                            'gt_ans_text': ans, \n",
    "                            'gt_ans_span': ans_span,\n",
    "                            'context_text': context}\n",
    "    \n",
    "    context_sent = nltk.sent_tokenize(context)\n",
    "    #remove stopwords\n",
    "    context_vec = {}\n",
    "    context_vec1 = vectorizer.transform([' '.join([w.lower() for w in c if w not in set(words)]) for c in context_sent])\n",
    "    \n",
    "    for j, c in enumerate(context_sent):\n",
    "        norm_ctx = ' '.join([w.lower() for w in c if w not in set(words)])\n",
    "        if len(norm_ctx) < 1:\n",
    "            continue\n",
    "        context_vec[j] = context_vec1[j]\n",
    "        \n",
    "    \n",
    "    test_dev_vectors[i]['context_vec'] = context_vec \n",
    "    ques_vec = vectorizer.transform([' '.join([q for q in ques.split() if q not in set(words)])])\n",
    "    \n",
    "    test_dev_vectors[i]['question_vec'] = ques_vec\n",
    "    max_idx, max_score = -1, 0\n",
    "    all_scores = {}\n",
    "    \n",
    "    for k, v in context_vec.items():\n",
    "        sim_score = cosine_similarity(ques_vec, v)\n",
    "        if sim_score > max_score:\n",
    "            max_score = sim_score\n",
    "            max_idx = k\n",
    "            \n",
    "        all_scores[k] = sim_score\n",
    "        \n",
    "    test_dev_vectors[i]['scores'] = all_scores\n",
    "    test_dev_vectors[i]['pred_ans'] = context_sent[max_idx]\n",
    "    i +=1\n",
    "   \n",
    "\n",
    "pbar.close()"
   ]
  },
  {
   "cell_type": "code",
   "execution_count": 28,
   "id": "eba61129",
   "metadata": {},
   "outputs": [],
   "source": [
    "def norm(text):\n",
    "    return ' '.join([t.lower() for t in text.split() if t not in set(words)])\n",
    "\n",
    "all_gt = [norm(v['gt_ans_text']) for k, v in test_dev_vectors.items()]\n",
    "all_pred = [norm(v['pred_ans']) for k, v in test_dev_vectors.items()]\n"
   ]
  },
  {
   "cell_type": "code",
   "execution_count": 29,
   "id": "86a7a561",
   "metadata": {},
   "outputs": [
    {
     "data": {
      "text/plain": [
       "['sonidegib hedghog signalling pathway inhibitor.',\n",
       " 'sonidegib hedghog signalling pathway inhibitor.',\n",
       " 'denosumab (dmab) fully human monoclonal antibody receptor activator nuclear factor-κb ligand (rankl).',\n",
       " 'denosumab (dmab) fully human monoclonal antibody receptor activator nuclear factor-κb ligand (rankl).',\n",
       " 'denosumab (dmab) fully human monoclonal antibody receptor activator nuclear factor-κb ligand (rankl).',\n",
       " 'denosumab (dmab) fully human monoclonal antibody receptor activator nuclear factor-κb ligand (rankl).',\n",
       " \"eliglustat developed treatment gaucher's disease type 1.\",\n",
       " \"eliglustat developed treatment gaucher's disease type 1.\",\n",
       " \"eliglustat developed treatment gaucher's disease type 1.\",\n",
       " \"eliglustat developed treatment gaucher's disease type 1.\"]"
      ]
     },
     "execution_count": 29,
     "metadata": {},
     "output_type": "execute_result"
    }
   ],
   "source": [
    "all_gt[0:10]"
   ]
  },
  {
   "cell_type": "code",
   "execution_count": 30,
   "id": "53114a79",
   "metadata": {},
   "outputs": [
    {
     "data": {
      "text/plain": [
       "['funding: novartis pharmaceuticals corporation.',\n",
       " 'conclusions: this five-gene hh signature robustly identify hh-activated medulloblastoma may used preselect patients might benefit sonidegib treatment.',\n",
       " 'in 2013, us food drug administration approved denosumab use patients recurrent/unresectable/metastatic giant-cell tumor bone patients surgery would morbid.',\n",
       " 'according data, dmab may represent reasonable alternative bisphosphonates, particularly osteoporotic women suboptimal even poor adherence oral treatments expected.',\n",
       " 'this may contribute substantially significant reduction nonvertebral fracture risk found long-term denosumab arm freedom extension trial years 4-7.',\n",
       " 'rapid desensitization promising method delivery denosumab hypersensitivity reaction, considered osteoporosis treatment acceptable therapeutic alternatives available.',\n",
       " 'conclusions: eliglustat may therapeutic option treating skeletal manifestations gd1.',\n",
       " 'funding: genzyme, sanofi company.',\n",
       " 'trial registration: clinicaltrials.gov identifier: nct00891202.',\n",
       " 'long-term inhibition glycosphingolipid biosynthesis suppresses development spontaneous b-cell lymphoma myeloma gaucher mice.']"
      ]
     },
     "execution_count": 30,
     "metadata": {},
     "output_type": "execute_result"
    }
   ],
   "source": [
    "all_pred[0:10]"
   ]
  },
  {
   "cell_type": "code",
   "execution_count": 25,
   "id": "30272782",
   "metadata": {},
   "outputs": [
    {
     "name": "stdout",
     "output_type": "stream",
     "text": [
      "test_dev f1 score: 0.05045675252956613\n"
     ]
    }
   ],
   "source": [
    "print('test_dev f1 score: {}'.format(f1_score(all_pred, all_gt)))"
   ]
  },
  {
   "cell_type": "code",
   "execution_count": 31,
   "id": "958b3b37",
   "metadata": {},
   "outputs": [
    {
     "name": "stdout",
     "output_type": "stream",
     "text": [
      "test f1 score: 0.0895694148136883\n"
     ]
    }
   ],
   "source": [
    "print('test f1 score: {}'.format(f1_score(all_pred, all_gt)))"
   ]
  },
  {
   "cell_type": "code",
   "execution_count": null,
   "id": "59bcc50a",
   "metadata": {},
   "outputs": [],
   "source": []
  }
 ],
 "metadata": {
  "kernelspec": {
   "display_name": "domain_adaptation_QA",
   "language": "python",
   "name": "domain_adaptation_qa"
  },
  "language_info": {
   "codemirror_mode": {
    "name": "ipython",
    "version": 3
   },
   "file_extension": ".py",
   "mimetype": "text/x-python",
   "name": "python",
   "nbconvert_exporter": "python",
   "pygments_lexer": "ipython3",
   "version": "3.7.10"
  },
  "toc": {
   "base_numbering": 1,
   "nav_menu": {},
   "number_sections": true,
   "sideBar": true,
   "skip_h1_title": false,
   "title_cell": "Table of Contents",
   "title_sidebar": "Contents",
   "toc_cell": false,
   "toc_position": {},
   "toc_section_display": true,
   "toc_window_display": false
  }
 },
 "nbformat": 4,
 "nbformat_minor": 5
}
