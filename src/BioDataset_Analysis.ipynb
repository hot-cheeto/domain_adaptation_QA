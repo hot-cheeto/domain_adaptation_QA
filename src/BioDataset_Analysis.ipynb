{
 "cells": [
  {
   "cell_type": "code",
   "execution_count": 210,
   "id": "d5aca218",
   "metadata": {},
   "outputs": [
    {
     "name": "stdout",
     "output_type": "stream",
     "text": [
      "The autoreload extension is already loaded. To reload it, use:\n",
      "  %reload_ext autoreload\n"
     ]
    }
   ],
   "source": [
    "import sys\n",
    "sys.path.append('..')\n",
    "\n",
    "import os\n",
    "import glob\n",
    "from tqdm import tqdm_notebook as tqdm\n",
    "\n",
    "from data.bioasq_dataset import BioASQDataset\n",
    "from utilities.file_utils import Utils as utils\n",
    "import numpy as np\n",
    "from collections import Counter\n",
    "import re\n",
    "import random\n",
    "\n",
    "from datasets import load_dataset\n",
    "from utilities import data_helpers as dh\n",
    "from IPython.display import HTML as html_print\n",
    "\n",
    "\n",
    "%load_ext autoreload\n",
    "%autoreload 2"
   ]
  },
  {
   "cell_type": "markdown",
   "id": "183f3933",
   "metadata": {},
   "source": [
    "## BioAQS dataset stats\n",
    "\n",
    "Due we don't have access to the ground truth span for test dataset, we are splitting the train set into train/dev/test. For our test set we are using it as second test set more for qualitive results see if it can find the answer even though those examples where not meant for extractive QA like the examples in the original train set. "
   ]
  },
  {
   "cell_type": "code",
   "execution_count": 260,
   "id": "2dc5edbe",
   "metadata": {},
   "outputs": [
    {
     "name": "stdout",
     "output_type": "stream",
     "text": [
      "Loading and preprocessing file: /Users/ordonez2/Desktop/cs221/final project/domain_adaptation_QA/data/BioASQ/BioASQ-train-factoid-5b.json\n"
     ]
    },
    {
     "data": {
      "application/vnd.jupyter.widget-view+json": {
       "model_id": "8602b324c29e409fbb56a08fdc0ef5e1",
       "version_major": 2,
       "version_minor": 0
      },
      "text/plain": [
       "HBox(children=(FloatProgress(value=0.0, max=4950.0), HTML(value='')))"
      ]
     },
     "metadata": {},
     "output_type": "display_data"
    },
    {
     "name": "stdout",
     "output_type": "stream",
     "text": [
      "\n",
      "Loading and preprocessing file: /Users/ordonez2/Desktop/cs221/final project/domain_adaptation_QA/data/BioASQ/BioASQ-train-factoid-4b.json\n"
     ]
    },
    {
     "data": {
      "application/vnd.jupyter.widget-view+json": {
       "model_id": "b543ffb8c23d424e81cba3917a5788ce",
       "version_major": 2,
       "version_minor": 0
      },
      "text/plain": [
       "HBox(children=(FloatProgress(value=0.0, max=3266.0), HTML(value='')))"
      ]
     },
     "metadata": {},
     "output_type": "display_data"
    },
    {
     "name": "stdout",
     "output_type": "stream",
     "text": [
      "\n"
     ]
    }
   ],
   "source": [
    "dataset = BioASQDataset('train', notebook = True)"
   ]
  },
  {
   "cell_type": "code",
   "execution_count": 261,
   "id": "e80aca9e",
   "metadata": {},
   "outputs": [],
   "source": [
    "def print_dataset_stats(all_ques, all_ans, all_ctx, total_examples):\n",
    "    \n",
    "    all_ques_numwords = [len(q.split()) for q in list(set(all_ques))]\n",
    "    all_ans_numwords = [len(q.split()) for q in list(set(all_ans))]\n",
    "    all_ctx_numwords = [len(q.split()) for q in list(set(all_ctx))]\n",
    "    \n",
    "    print('Dataset Stats size {}:\\n\\tTotal questions {}, unique questions {}\\n\\tTotal answers {}, unique answers: {}\\n\\tTotal context {} unique context: {}'.format(\n",
    "            total_examples, \n",
    "            len(all_ques), len(list(set(all_ques))),\n",
    "            len(all_ans), len(list(set(all_ans))),\n",
    "            len(all_ctx), len(list(set(all_ctx)))))\n",
    "\n",
    "    print('Questions stats:\\n\\tmax words {}\\n\\tmin words: {}\\n\\tmedian words: {}\\n\\tmean words:{}'.format(\n",
    "            np.max(all_ques_numwords), \n",
    "            np.min(all_ques_numwords), \n",
    "            np.median(all_ques_numwords),\n",
    "            np.mean(all_ques_numwords)))\n",
    "\n",
    "    print('Answers stats:\\n\\tmax words {}\\n\\tmin words: {}\\n\\tmedian words: {}\\n\\tmean words:{}'.format(\n",
    "            np.max(all_ans_numwords), \n",
    "            np.min(all_ans_numwords), \n",
    "            np.median(all_ans_numwords),\n",
    "            np.mean(all_ans_numwords)))\n",
    "\n",
    "    print('Context stats:\\n\\tmax words {}\\n\\tmin words: {}\\n\\tmedian words: {}\\n\\tmean words:{}'.format(\n",
    "            np.max(all_ctx_numwords), \n",
    "            np.min(all_ctx_numwords), \n",
    "            np.median(all_ctx_numwords),\n",
    "            np.mean(all_ctx_numwords)))\n",
    "    \n",
    "    \n"
   ]
  },
  {
   "cell_type": "code",
   "execution_count": 262,
   "id": "992ed4d6",
   "metadata": {},
   "outputs": [],
   "source": [
    "out = dataset[0]"
   ]
  },
  {
   "cell_type": "code",
   "execution_count": 263,
   "id": "f9de06ca",
   "metadata": {},
   "outputs": [
    {
     "name": "stdout",
     "output_type": "stream",
     "text": [
      "Stats for BioASQ Dataset\n",
      "Dataset Stats size 4957:\n",
      "\tTotal questions 4957, unique questions 326\n",
      "\tTotal answers 4957, unique answers: 487\n",
      "\tTotal context 4957 unique context: 1918\n",
      "Questions stats:\n",
      "\tmax words 23\n",
      "\tmin words: 3\n",
      "\tmedian words: 9.0\n",
      "\tmean words:9.60122699386503\n",
      "Answers stats:\n",
      "\tmax words 40\n",
      "\tmin words: 1\n",
      "\tmedian words: 1.0\n",
      "\tmean words:2.515400410677618\n",
      "Context stats:\n",
      "\tmax words 675\n",
      "\tmin words: 22\n",
      "\tmedian words: 217.0\n",
      "\tmean words:218.40302398331596\n"
     ]
    }
   ],
   "source": [
    "print('Stats for BioASQ Dataset')\n",
    "total_examples = len(dataset)\n",
    "all_ques = [d[0] for d in dataset]\n",
    "all_ans = [d[1] for d in dataset]\n",
    "all_span = [d[2] for d in dataset]\n",
    "all_ctx = [d[3] for d in dataset]\n",
    "print_dataset_stats(all_ques, all_ans, all_ctx, total_examples)"
   ]
  },
  {
   "cell_type": "code",
   "execution_count": 242,
   "id": "6d91f573",
   "metadata": {},
   "outputs": [],
   "source": [
    "def show_one_example(all_ques, all_ans, all_ctx, span, index = None):\n",
    "    \n",
    "    if index == None:\n",
    "        index = random.sample(range(len(all_ques)), 1)[0]\n",
    "        \n",
    "    start, end = span[index][0], span[index][1]\n",
    "    context = all_ctx[index]\n",
    "    context_text = highlight_ans(start, end, context)\n",
    "    \n",
    "    #display_text = 'Question: {}\\nContext: {}'.format(all_ques[index], context_text)\n",
    "    display_text = 'Question: \\n{}\\nAnswer: {}'.format(all_ques[index], all_ans[index])\n",
    "    \n",
    "    return display_text, context_text\n"
   ]
  },
  {
   "cell_type": "code",
   "execution_count": 243,
   "id": "f5c8029e",
   "metadata": {},
   "outputs": [],
   "source": [
    "def highlight_ans(start, end, context):\n",
    "    \n",
    "    template = '<html><body><span style=\\\"background-color: rgba(0, 255, 0, 0.8);\\\">{}</font></span></body></html>'\n",
    "    \n",
    "    before_span = context[:start] + ' '\n",
    "    after_span = context[end:] + ' '\n",
    "    color_area = template.format(context[start:end])\n",
    "    \n",
    "    return before_span + color_area + after_span"
   ]
  },
  {
   "cell_type": "code",
   "execution_count": 244,
   "id": "620f86eb",
   "metadata": {},
   "outputs": [
    {
     "name": "stdout",
     "output_type": "stream",
     "text": [
      "Question: \n",
      "In which kingdom do microsporidia belong, according to their current classification scheme?\n",
      "Answer: fungi\n",
      "Context:\n"
     ]
    },
    {
     "data": {
      "text/html": [
       "Evolution of the sex-related locus and genomic features shared in microsporidia and fungi. BACKGROUND: Microsporidia are obligate intracellular, eukaryotic pathogens that infect a wide range of animals from nematodes to humans, and in some cases, protists. The preponderance of evidence as to the origin of the microsporidia reveals a close relationship with the fungi, either within the kingdom or as a sister group to it. Recent phylogenetic studies and gene order analysis suggest that microsporidia share a particularly close evolutionary relationship with the zygomycetes. METHODOLOGY/PRINCIPAL FINDINGS: Here we expanded this analysis and also examined a putative sex-locus for variability between microsporidian populations. Whole genome inspection reveals a unique syntenic gene pair (RPS9-RPL21) present in the vast majority of fungi and the microsporidians but not in other eukaryotic lineages. Two other unique gene fusions (glutamyl-prolyl tRNA synthetase and ubiquitin-ribosomal subunit S30) that are present in metazoans, choanoflagellates, and filasterean opisthokonts are unfused in the fungi and microsporidians. One locus previously found to be conserved in many microsporidian genomes is similar to the sex locus of zygomycetes in gene order and architecture. Both sex-related and sex loci harbor TPT, HMG, and RNA helicase genes forming a syntenic gene cluster. We sequenced and analyzed the sex-related locus in 11 different Encephalitozoon cuniculi isolates and the sibling species E. intestinalis (3 isolates) and E. hellem (1 isolate). There was no evidence for an idiomorphic sex-related locus in this Encephalitozoon species sample. According to sequence-based phylogenetic analyses, the TPT and RNA helicase genes flanking the HMG genes are paralogous rather than orthologous between zygomycetes and microsporidians. CONCLUSION/SIGNIFICANCE: The unique genomic hallmarks between microsporidia and fungi are independent of sequence based phylogenetic comparisons and further contribute to define the borders of the fungal kingdom and support the classification of microsporidia as unusual derived  <html><body><span style=\"background-color: rgba(0, 255, 0, 0.8);\">fungi</font></span></body></html>. And the sex/sex-related loci appear to have been subject to frequent gene conversion and translocations in microsporidia and zygomycetes. "
      ],
      "text/plain": [
       "<IPython.core.display.HTML object>"
      ]
     },
     "execution_count": 244,
     "metadata": {},
     "output_type": "execute_result"
    }
   ],
   "source": [
    "display_ques, display_example = show_one_example(all_ques, all_ans, all_ctx, all_span)\n",
    "\n",
    "print(display_ques)\n",
    "print('Context:')\n",
    "html_print(display_example)"
   ]
  },
  {
   "cell_type": "code",
   "execution_count": null,
   "id": "b3111519",
   "metadata": {},
   "outputs": [],
   "source": []
  },
  {
   "cell_type": "code",
   "execution_count": null,
   "id": "9d9aa1f9",
   "metadata": {},
   "outputs": [],
   "source": []
  },
  {
   "cell_type": "code",
   "execution_count": null,
   "id": "b8673c25",
   "metadata": {},
   "outputs": [],
   "source": []
  },
  {
   "cell_type": "code",
   "execution_count": null,
   "id": "e49cd61c",
   "metadata": {},
   "outputs": [],
   "source": []
  },
  {
   "cell_type": "code",
   "execution_count": null,
   "id": "0b2a8f37",
   "metadata": {},
   "outputs": [],
   "source": []
  }
 ],
 "metadata": {
  "kernelspec": {
   "display_name": "domain_adaptation_QA",
   "language": "python",
   "name": "domain_adaptation_qa"
  },
  "language_info": {
   "codemirror_mode": {
    "name": "ipython",
    "version": 3
   },
   "file_extension": ".py",
   "mimetype": "text/x-python",
   "name": "python",
   "nbconvert_exporter": "python",
   "pygments_lexer": "ipython3",
   "version": "3.7.10"
  },
  "toc": {
   "base_numbering": 1,
   "nav_menu": {},
   "number_sections": true,
   "sideBar": true,
   "skip_h1_title": false,
   "title_cell": "Table of Contents",
   "title_sidebar": "Contents",
   "toc_cell": false,
   "toc_position": {},
   "toc_section_display": true,
   "toc_window_display": false
  }
 },
 "nbformat": 4,
 "nbformat_minor": 5
}
